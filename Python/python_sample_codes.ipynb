{
 "cells": [
  {
   "cell_type": "markdown",
   "metadata": {},
   "source": [
    "# logging\n",
    "\n",
    "**ログレベルの説明**\n",
    "|レベル|数値|説明|\n",
    "|--|--|--|\n",
    "|CRITICAL|50|致命的な状態でサービス提供ができないようなときのログに設定する。|\n",
    "|ERROR|40|不具合が起きているときのログに設定する。|\n",
    "|WARNING|30|エラーではが、潜在的に問題になる可能性があるときのログに設定する。|\n",
    "|INFO|20|通常処理の中であとから確認する可能性がある情報などのログに設定する。ジョブの開始と終了の時刻など。|\n",
    "|DEBUG|10|開発中に確認する必要のある情報を出力するときのログに設定する。|\n",
    "  \n",
    "**フォーマット文字列**\n",
    "|表記|意味|\n",
    "|--|--|\n",
    "|%(asctime)s|日時|\n",
    "|%(levelname)s|ログレベル|\n",
    "|%(filename)s|ファイル名|\n",
    "|%(module)s|モジュール名|\n",
    "|%(lineno)d|行番号|\n",
    "|%(funcName)s|関数、メソッド名|\n",
    "|%(message)s|メッセージ|\n",
    "|%(name)s|ロガー名|"
   ]
  },
  {
   "cell_type": "markdown",
   "metadata": {},
   "source": [
    "## 一般的な従来の1件1行のログを出力する"
   ]
  },
  {
   "cell_type": "code",
   "execution_count": 1,
   "metadata": {},
   "outputs": [
    {
     "name": "stderr",
     "output_type": "stream",
     "text": [
      "2024-12-30 00:02:53,326 - CRITICAL : __main__ : <module> : クリティカルのメッセージ (2987863191.py:35)\n",
      "2024-12-30 00:02:53,328 - ERROR : __main__ : <module> : エラーのメッセージ (2987863191.py:36)\n",
      "2024-12-30 00:02:53,329 - WARNING : __main__ : <module> : ワーニングのメッセージ (2987863191.py:37)\n"
     ]
    }
   ],
   "source": [
    "from logging import (\n",
    "    getLogger,\n",
    "    StreamHandler,\n",
    "    FileHandler,\n",
    "    Formatter,\n",
    "    DEBUG,\n",
    "    INFO,\n",
    "    WARNING,\n",
    "    ERROR,\n",
    "    CRITICAL\n",
    ")\n",
    "\n",
    "logger = getLogger(__name__)\n",
    "# ロガーのログレベルを設定(ハンドラーよりも低い数値(DEBUGに近い)のログレベルにする必要がある)\n",
    "logger.setLevel(DEBUG)\n",
    "\n",
    "# フォーマットを設定\n",
    "formatter = Formatter(\n",
    "    \"%(asctime)s - %(levelname)s : %(name)s : %(funcName)s : %(message)s (%(filename)s:%(lineno)d)\"\n",
    ")\n",
    "\n",
    "# 標準出力用ハンドラーのログレベルを設定\n",
    "s_handler = StreamHandler()\n",
    "s_handler.setLevel(WARNING)\n",
    "s_handler.setFormatter(formatter)\n",
    "logger.addHandler(s_handler)\n",
    "\n",
    "# ファイル出力用ハンドラーのログレベルを設定\n",
    "f_handler = FileHandler(filename=\"./log/app.log\", encoding=\"utf-8\")\n",
    "f_handler.setLevel(INFO)\n",
    "f_handler.setFormatter(formatter)\n",
    "logger.addHandler(f_handler)\n",
    "\n",
    "# ログを出力\n",
    "logger.critical(\"クリティカルのメッセージ\")\n",
    "logger.error(\"エラーのメッセージ\")\n",
    "logger.warning(\"ワーニングのメッセージ\")\n",
    "logger.info(\"インフォのメッセージ\")\n",
    "logger.debug(\"デバッグのメッセージ\")"
   ]
  },
  {
   "cell_type": "markdown",
   "metadata": {},
   "source": [
    "## JSON形式のログを出力する\n",
    "※python-json-loggerのインストールが必要"
   ]
  },
  {
   "cell_type": "code",
   "execution_count": 2,
   "metadata": {},
   "outputs": [
    {
     "name": "stdout",
     "output_type": "stream",
     "text": [
      "Requirement already satisfied: python-json-logger in c:\\users\\makon\\appdata\\local\\programs\\python\\python312\\lib\\site-packages (3.2.1)\n"
     ]
    },
    {
     "name": "stderr",
     "output_type": "stream",
     "text": [
      "\n",
      "[notice] A new release of pip is available: 24.0 -> 24.3.1\n",
      "[notice] To update, run: python.exe -m pip install --upgrade pip\n"
     ]
    }
   ],
   "source": [
    "!pip install python-json-logger"
   ]
  },
  {
   "cell_type": "code",
   "execution_count": 1,
   "metadata": {},
   "outputs": [
    {
     "name": "stderr",
     "output_type": "stream",
     "text": [
      "{\"asctime\": \"2024-12-30 00:08:50,814\", \"levelname\": \"CRITICAL\", \"name\": \"__main__\", \"funcName\": \"<module>\", \"message\": \"クリティカルのメッセージ\", \"filename\": \"782796838.py\", \"lineno\": 37, \"user_name\": \"tanaka\"}\n",
      "{\"asctime\": \"2024-12-30 00:08:50,816\", \"levelname\": \"ERROR\", \"name\": \"__main__\", \"funcName\": \"<module>\", \"message\": \"エラーのメッセージ\", \"filename\": \"782796838.py\", \"lineno\": 38, \"user_name\": \"tanaka\"}\n",
      "{\"asctime\": \"2024-12-30 00:08:50,817\", \"levelname\": \"WARNING\", \"name\": \"__main__\", \"funcName\": \"<module>\", \"message\": \"ワーニングのメッセージ\", \"filename\": \"782796838.py\", \"lineno\": 39, \"user_name\": \"tanaka\"}\n",
      "{\"asctime\": \"2024-12-30 00:08:50,819\", \"levelname\": \"INFO\", \"name\": \"__main__\", \"funcName\": \"<module>\", \"message\": \"インフォのメッセージ\", \"filename\": \"782796838.py\", \"lineno\": 40, \"user_name\": \"tanaka\"}\n",
      "{\"asctime\": \"2024-12-30 00:08:50,820\", \"levelname\": \"DEBUG\", \"name\": \"__main__\", \"funcName\": \"<module>\", \"message\": \"デバッグのメッセージ\", \"filename\": \"782796838.py\", \"lineno\": 41, \"user_name\": \"tanaka\"}\n"
     ]
    }
   ],
   "source": [
    "from logging import (\n",
    "    getLogger,\n",
    "    StreamHandler,\n",
    "    FileHandler,\n",
    "    Formatter,\n",
    "    DEBUG,\n",
    "    INFO,\n",
    "    WARNING,\n",
    "    ERROR,\n",
    "    CRITICAL,\n",
    ")\n",
    "from pythonjsonlogger import jsonlogger\n",
    "\n",
    "logger = getLogger(__name__)\n",
    "# ロガーのログレベルを設定(ハンドラーよりも低い数値(DEBUGに近い)のログレベルにする必要がある)\n",
    "logger.setLevel(DEBUG)\n",
    "\n",
    "# ※※JSONフォーマットを設定※※\n",
    "formatter = jsonlogger.JsonFormatter(\n",
    "    \"%(asctime)s %(levelname)s %(name)s %(funcName)s %(message)s %(filename)s %(lineno)d\",\n",
    "    json_ensure_ascii=False,\n",
    ")\n",
    "\n",
    "# 標準出力用ハンドラーのログレベルを設定\n",
    "s_handler = StreamHandler()\n",
    "s_handler.setLevel(DEBUG)\n",
    "s_handler.setFormatter(formatter)\n",
    "logger.addHandler(s_handler)\n",
    "\n",
    "# ファイル出力用ハンドラーのログレベルを設定\n",
    "f_handler = FileHandler(filename=\"./log/app.log\", encoding=\"utf-8\")\n",
    "f_handler.setLevel(DEBUG)\n",
    "f_handler.setFormatter(formatter)\n",
    "logger.addHandler(f_handler)\n",
    "\n",
    "# ログを出力\n",
    "logger.critical({\"user_name\": \"tanaka\", \"message\": \"クリティカルのメッセージ\"})\n",
    "logger.error({\"user_name\": \"tanaka\", \"message\": \"エラーのメッセージ\"})\n",
    "logger.warning({\"user_name\": \"tanaka\", \"message\": \"ワーニングのメッセージ\"})\n",
    "logger.info({\"user_name\": \"tanaka\", \"message\": \"インフォのメッセージ\"})\n",
    "logger.debug({\"user_name\": \"tanaka\", \"message\": \"デバッグのメッセージ\"})"
   ]
  },
  {
   "cell_type": "markdown",
   "metadata": {},
   "source": [
    "## ログの設定をyamlから取得する\n",
    "※pyyamlのインストールが必要"
   ]
  },
  {
   "cell_type": "code",
   "execution_count": 4,
   "metadata": {},
   "outputs": [
    {
     "name": "stdout",
     "output_type": "stream",
     "text": [
      "Requirement already satisfied: pyyaml in c:\\users\\makon\\appdata\\local\\programs\\python\\python312\\lib\\site-packages (6.0.2)\n"
     ]
    },
    {
     "name": "stderr",
     "output_type": "stream",
     "text": [
      "\n",
      "[notice] A new release of pip is available: 24.0 -> 24.3.1\n",
      "[notice] To update, run: python.exe -m pip install --upgrade pip\n"
     ]
    }
   ],
   "source": [
    "!pip install pyyaml"
   ]
  },
  {
   "cell_type": "markdown",
   "metadata": {},
   "source": [
    "### 一般的な従来の1件1行のログを出力する"
   ]
  },
  {
   "cell_type": "code",
   "execution_count": null,
   "metadata": {},
   "outputs": [],
   "source": [
    "from logging import getLogger, config\n",
    "import yaml\n",
    "\n",
    "# ログの設定を読み込み\n",
    "config.dictConfig(\n",
    "    yaml.load(\n",
    "        open(\"./config/logging_nomal_format.yaml\").read(),\n",
    "        Loader=yaml.SafeLoader,\n",
    "    )\n",
    ")\n",
    "\n",
    "# ロガーを取得\n",
    "logger = getLogger(__name__)\n",
    "\n",
    "# ログを出力\n",
    "logger.critical(\"クリティカルのメッセージ\")\n",
    "logger.error(\"エラーのメッセージ\")\n",
    "logger.warning(\"ワーニングのメッセージ\")\n",
    "logger.info(\"インフォのメッセージ\")\n",
    "logger.debug(\"デバッグのメッセージ\")"
   ]
  },
  {
   "cell_type": "markdown",
   "metadata": {},
   "source": [
    "### JSON形式のログを出力する"
   ]
  },
  {
   "cell_type": "code",
   "execution_count": 1,
   "metadata": {},
   "outputs": [
    {
     "name": "stderr",
     "output_type": "stream",
     "text": [
      "{\"asctime\": \"2024-12-30 00:14:15,512\", \"levelname\": \"CRITICAL\", \"name\": \"__main__\", \"funcName\": \"<module>\", \"message\": \"クリティカルのメッセージ\", \"filename\": \"2244160616.py\", \"lineno\": 16, \"user_name\": \"tanaka\"}\n",
      "{\"asctime\": \"2024-12-30 00:14:15,513\", \"levelname\": \"ERROR\", \"name\": \"__main__\", \"funcName\": \"<module>\", \"message\": \"エラーのメッセージ\", \"filename\": \"2244160616.py\", \"lineno\": 17, \"user_name\": \"tanaka\"}\n",
      "{\"asctime\": \"2024-12-30 00:14:15,514\", \"levelname\": \"WARNING\", \"name\": \"__main__\", \"funcName\": \"<module>\", \"message\": \"ワーニングのメッセージ\", \"filename\": \"2244160616.py\", \"lineno\": 18, \"user_name\": \"tanaka\"}\n",
      "{\"asctime\": \"2024-12-30 00:14:15,515\", \"levelname\": \"INFO\", \"name\": \"__main__\", \"funcName\": \"<module>\", \"message\": \"インフォのメッセージ\", \"filename\": \"2244160616.py\", \"lineno\": 19, \"user_name\": \"tanaka\"}\n",
      "{\"asctime\": \"2024-12-30 00:14:15,516\", \"levelname\": \"DEBUG\", \"name\": \"__main__\", \"funcName\": \"<module>\", \"message\": \"デバッグのメッセージ\", \"filename\": \"2244160616.py\", \"lineno\": 20, \"user_name\": \"tanaka\"}\n"
     ]
    }
   ],
   "source": [
    "from logging import getLogger, config\n",
    "import yaml\n",
    "\n",
    "# ログの設定を読み込み\n",
    "config.dictConfig(\n",
    "    yaml.load(\n",
    "        open(\"./config/logging_json_format.yaml\").read(),\n",
    "        Loader=yaml.SafeLoader,\n",
    "    )\n",
    ")\n",
    "\n",
    "# ロガーを取得\n",
    "logger = getLogger(__name__)\n",
    "\n",
    "# ログを出力\n",
    "logger.critical({\"user_name\": \"tanaka\", \"message\": \"クリティカルのメッセージ\"})\n",
    "logger.error({\"user_name\": \"tanaka\", \"message\": \"エラーのメッセージ\"})\n",
    "logger.warning({\"user_name\": \"tanaka\", \"message\": \"ワーニングのメッセージ\"})\n",
    "logger.info({\"user_name\": \"tanaka\", \"message\": \"インフォのメッセージ\"})\n",
    "logger.debug({\"user_name\": \"tanaka\", \"message\": \"デバッグのメッセージ\"})"
   ]
  },
  {
   "cell_type": "markdown",
   "metadata": {},
   "source": [
    "## 関数の開始終了時刻を記録するデコレータ"
   ]
  },
  {
   "cell_type": "code",
   "execution_count": 3,
   "metadata": {},
   "outputs": [
    {
     "name": "stderr",
     "output_type": "stream",
     "text": [
      "{\"asctime\": \"2024-12-30 00:15:32,489\", \"levelname\": \"DEBUG\", \"name\": \"__main__\", \"funcName\": \"_record_function_start_and_end_time\", \"message\": \"test_get_double is started.\", \"filename\": \"3572751676.py\", \"lineno\": 4}\n",
      "{\"asctime\": \"2024-12-30 00:15:32,491\", \"levelname\": \"DEBUG\", \"name\": \"__main__\", \"funcName\": \"_record_function_start_and_end_time\", \"message\": \"test_get_double is completed.\", \"filename\": \"3572751676.py\", \"lineno\": 6}\n"
     ]
    },
    {
     "name": "stdout",
     "output_type": "stream",
     "text": [
      "20\n"
     ]
    }
   ],
   "source": [
    "def record_function_start_and_end_time(func):\n",
    "    def _record_function_start_and_end_time(*args, **kwargs):\n",
    "        function_name = func.__name__\n",
    "        logger.debug({\"message\": f\"{function_name} is started.\"})\n",
    "        result = func(*args, **kwargs)\n",
    "        logger.debug({\"message\": f\"{function_name} is completed.\"})\n",
    "        return result\n",
    "\n",
    "    return _record_function_start_and_end_time\n",
    "\n",
    "\n",
    "@record_function_start_and_end_time\n",
    "def test_get_double(number: int) -> int:\n",
    "    return number * 2\n",
    "\n",
    "\n",
    "print(test_get_double(10))"
   ]
  },
  {
   "cell_type": "code",
   "execution_count": null,
   "metadata": {},
   "outputs": [],
   "source": []
  }
 ],
 "metadata": {
  "kernelspec": {
   "display_name": "Python 3",
   "language": "python",
   "name": "python3"
  },
  "language_info": {
   "codemirror_mode": {
    "name": "ipython",
    "version": 3
   },
   "file_extension": ".py",
   "mimetype": "text/x-python",
   "name": "python",
   "nbconvert_exporter": "python",
   "pygments_lexer": "ipython3",
   "version": "3.12.3"
  }
 },
 "nbformat": 4,
 "nbformat_minor": 2
}
