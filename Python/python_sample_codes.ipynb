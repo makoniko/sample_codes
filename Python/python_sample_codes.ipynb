{
 "cells": [
  {
   "cell_type": "markdown",
   "metadata": {},
   "source": [
    "# logging\n",
    "\n",
    "**ログレベルの説明**\n",
    "|レベル|数値|説明|\n",
    "|--|--|--|\n",
    "|CRITICAL|50|致命的な状態でサービス提供ができないようなときのログに設定する。|\n",
    "|ERROR|40|不具合が起きているときのログに設定する。|\n",
    "|WARNING|30|エラーではが、潜在的に問題になる可能性があるときのログに設定する。|\n",
    "|INFO|20|通常処理の中であとから確認する可能性がある情報などのログに設定する。ジョブの開始と終了の時刻など。|\n",
    "|DEBUG|10|開発中に確認する必要のある情報を出力するときのログに設定する。|\n",
    "  \n",
    "**フォーマット文字列**\n",
    "|表記|意味|\n",
    "|--|--|\n",
    "|%(asctime)s|日時|\n",
    "|%(levelname)s|ログレベル|\n",
    "|%(filename)s|ファイル名|\n",
    "|%(module)s|モジュール名|\n",
    "|%(lineno)d|行番号|\n",
    "|%(funcName)s|関数、メソッド名|\n",
    "|%(message)s|メッセージ|\n",
    "|%(name)s|ロガー名|"
   ]
  },
  {
   "cell_type": "markdown",
   "metadata": {},
   "source": [
    "## 一般的な従来の1件1行のログを出力する"
   ]
  },
  {
   "cell_type": "code",
   "execution_count": null,
   "metadata": {},
   "outputs": [],
   "source": [
    "from logging import (\n",
    "    getLogger,\n",
    "    StreamHandler,\n",
    "    FileHandler,\n",
    "    Formatter,\n",
    "    DEBUG,\n",
    "    INFO,\n",
    "    WARNING,\n",
    "    ERROR,\n",
    "    CRITICAL\n",
    ")\n",
    "\n",
    "logger = getLogger(__name__)\n",
    "# ロガーのログレベルを設定(ハンドラーよりも低い数値(DEBUGに近い)のログレベルにする必要がある)\n",
    "logger.setLevel(DEBUG)\n",
    "\n",
    "# フォーマットを設定\n",
    "formatter = Formatter(\n",
    "    \"%(asctime)s - %(levelname)s : %(name)s : %(funcName)s : %(message)s (%(filename)s:%(lineno)d)\"\n",
    ")\n",
    "\n",
    "# 標準出力用ハンドラーのログレベルを設定\n",
    "s_handler = StreamHandler()\n",
    "s_handler.setLevel(WARNING)\n",
    "s_handler.setFormatter(formatter)\n",
    "logger.addHandler(s_handler)\n",
    "\n",
    "# ファイル出力用ハンドラーのログレベルを設定\n",
    "f_handler = FileHandler(filename=\"./log/app.log\", encoding=\"utf-8\")\n",
    "f_handler.setLevel(INFO)\n",
    "f_handler.setFormatter(formatter)\n",
    "logger.addHandler(f_handler)\n",
    "\n",
    "# ログを出力\n",
    "logger.critical(\"クリティカルのメッセージ\")\n",
    "logger.error(\"エラーのメッセージ\")\n",
    "logger.warning(\"ワーニングのメッセージ\")\n",
    "logger.info(\"インフォのメッセージ\")\n",
    "logger.debug(\"デバッグのメッセージ\")"
   ]
  },
  {
   "cell_type": "markdown",
   "metadata": {},
   "source": [
    "## JSON形式のログを出力する\n",
    "※python-json-loggerのインストールが必要"
   ]
  },
  {
   "cell_type": "code",
   "execution_count": null,
   "metadata": {},
   "outputs": [],
   "source": [
    "!pip install python-json-logger"
   ]
  },
  {
   "cell_type": "code",
   "execution_count": null,
   "metadata": {},
   "outputs": [],
   "source": [
    "from logging import (\n",
    "    getLogger,\n",
    "    StreamHandler,\n",
    "    FileHandler,\n",
    "    Formatter,\n",
    "    DEBUG,\n",
    "    INFO,\n",
    "    WARNING,\n",
    "    ERROR,\n",
    "    CRITICAL,\n",
    ")\n",
    "from pythonjsonlogger import jsonlogger\n",
    "\n",
    "logger = getLogger(__name__)\n",
    "# ロガーのログレベルを設定(ハンドラーよりも低い数値(DEBUGに近い)のログレベルにする必要がある)\n",
    "logger.setLevel(DEBUG)\n",
    "\n",
    "# ※※JSONフォーマットを設定※※\n",
    "formatter = jsonlogger.JsonFormatter(\n",
    "    \"%(asctime)s %(levelname)s %(name)s %(funcName)s %(message)s %(filename)s %(lineno)d\",\n",
    "    json_ensure_ascii=False,\n",
    ")\n",
    "\n",
    "# 標準出力用ハンドラーのログレベルを設定\n",
    "s_handler = StreamHandler()\n",
    "s_handler.setLevel(DEBUG)\n",
    "s_handler.setFormatter(formatter)\n",
    "logger.addHandler(s_handler)\n",
    "\n",
    "# ファイル出力用ハンドラーのログレベルを設定\n",
    "f_handler = FileHandler(filename=\"./log/app.log\", encoding=\"utf-8\")\n",
    "f_handler.setLevel(DEBUG)\n",
    "f_handler.setFormatter(formatter)\n",
    "logger.addHandler(f_handler)\n",
    "\n",
    "# ログを出力\n",
    "logger.critical({\"user_name\": \"tanaka\", \"message\": \"クリティカルのメッセージ\"})\n",
    "logger.error({\"user_name\": \"tanaka\", \"message\": \"エラーのメッセージ\"})\n",
    "logger.warning({\"user_name\": \"tanaka\", \"message\": \"ワーニングのメッセージ\"})\n",
    "logger.info({\"user_name\": \"tanaka\", \"message\": \"インフォのメッセージ\"})\n",
    "logger.debug({\"user_name\": \"tanaka\", \"message\": \"デバッグのメッセージ\"})"
   ]
  },
  {
   "cell_type": "markdown",
   "metadata": {},
   "source": [
    "## ログの設定をyamlから取得する\n",
    "※pyyamlのインストールが必要"
   ]
  },
  {
   "cell_type": "code",
   "execution_count": null,
   "metadata": {},
   "outputs": [],
   "source": [
    "!pip install pyyaml"
   ]
  },
  {
   "cell_type": "markdown",
   "metadata": {},
   "source": [
    "### 一般的な従来の1件1行のログを出力する"
   ]
  },
  {
   "cell_type": "code",
   "execution_count": 5,
   "metadata": {},
   "outputs": [],
   "source": [
    "from logging import getLogger, config\n",
    "import yaml\n",
    "\n",
    "# ログの設定を読み込み\n",
    "config.dictConfig(\n",
    "    yaml.load(\n",
    "        open(\"./config/logging_nomal_format.yaml\").read(),\n",
    "        Loader=yaml.SafeLoader,\n",
    "    )\n",
    ")\n",
    "\n",
    "# ロガーを取得\n",
    "logger = getLogger(__name__)\n",
    "\n",
    "# ログを出力\n",
    "logger.critical(\"クリティカルのメッセージ\")\n",
    "logger.error(\"エラーのメッセージ\")\n",
    "logger.warning(\"ワーニングのメッセージ\")\n",
    "logger.info(\"インフォのメッセージ\")\n",
    "logger.debug(\"デバッグのメッセージ\")"
   ]
  },
  {
   "cell_type": "markdown",
   "metadata": {},
   "source": [
    "### JSON形式のログを出力する"
   ]
  },
  {
   "cell_type": "code",
   "execution_count": 6,
   "metadata": {},
   "outputs": [],
   "source": [
    "from logging import getLogger, config\n",
    "import yaml\n",
    "\n",
    "# ログの設定を読み込み\n",
    "config.dictConfig(\n",
    "    yaml.load(\n",
    "        open(\"./config/logging_json_format.yaml\").read(),\n",
    "        Loader=yaml.SafeLoader,\n",
    "    )\n",
    ")\n",
    "\n",
    "# ロガーを取得\n",
    "logger = getLogger(__name__)\n",
    "\n",
    "# ログを出力\n",
    "logger.critical({\"user_name\": \"tanaka\", \"message\": \"クリティカルのメッセージ\"})\n",
    "logger.error({\"user_name\": \"tanaka\", \"message\": \"エラーのメッセージ\"})\n",
    "logger.warning({\"user_name\": \"tanaka\", \"message\": \"ワーニングのメッセージ\"})\n",
    "logger.info({\"user_name\": \"tanaka\", \"message\": \"インフォのメッセージ\"})\n",
    "logger.debug({\"user_name\": \"tanaka\", \"message\": \"デバッグのメッセージ\"})"
   ]
  },
  {
   "cell_type": "markdown",
   "metadata": {},
   "source": [
    "## 関数の開始終了時刻を記録するデコレータの例"
   ]
  },
  {
   "cell_type": "code",
   "execution_count": null,
   "metadata": {},
   "outputs": [],
   "source": [
    "def record_function_start_and_end_time(func):\n",
    "    def _record_function_start_and_end_time(*args, **kwargs):\n",
    "        function_name = func.__name__\n",
    "        logger.debug({\"message\": f\"{function_name} is started.\"})\n",
    "        result = func(*args, **kwargs)\n",
    "        logger.debug({\"message\": f\"{function_name} is completed.\"})\n",
    "        return result\n",
    "\n",
    "    return _record_function_start_and_end_time\n",
    "\n",
    "\n",
    "@record_function_start_and_end_time\n",
    "def test_get_double(number: int) -> int:\n",
    "    return number * 2\n",
    "\n",
    "\n",
    "print(test_get_double(10))"
   ]
  },
  {
   "cell_type": "markdown",
   "metadata": {},
   "source": [
    "# トレースを取得する"
   ]
  },
  {
   "cell_type": "markdown",
   "metadata": {},
   "source": [
    "## opentelemetryでトレースを取得する"
   ]
  },
  {
   "cell_type": "code",
   "execution_count": null,
   "metadata": {},
   "outputs": [],
   "source": [
    "!pip install opentelemetry-api\n",
    "!pip install opentelemetry-exporter-otlp"
   ]
  },
  {
   "cell_type": "markdown",
   "metadata": {},
   "source": [
    "### トレースを標準出力に出力する"
   ]
  },
  {
   "cell_type": "code",
   "execution_count": null,
   "metadata": {},
   "outputs": [],
   "source": [
    "from opentelemetry import trace\n",
    "from opentelemetry.sdk.trace import TracerProvider\n",
    "from opentelemetry.sdk.trace.export import (\n",
    "    BatchSpanProcessor,\n",
    "    ConsoleSpanExporter\n",
    ")\n",
    "from opentelemetry.sdk.trace.sampling import TraceIdRatioBased\n",
    "\n",
    "trace_provider = TracerProvider(\n",
    "    sampler=TraceIdRatioBased(1/1) # トレースを取得する確率を指定\n",
    ")\n",
    "\n",
    "trace.set_tracer_provider(trace_provider)\n",
    "trace.get_tracer_provider().add_span_processor(BatchSpanProcessor(\n",
    "    ConsoleSpanExporter() # 標準出力用のエクスプローラ\n",
    "))\n",
    "tracer = trace.get_tracer(__name__)"
   ]
  },
  {
   "cell_type": "code",
   "execution_count": null,
   "metadata": {},
   "outputs": [],
   "source": [
    "def func1():\n",
    "    with tracer.start_as_current_span(\"test1\"):\n",
    "        print(\"This is func1.\")\n",
    "        func2()\n",
    "\n",
    "def func2():\n",
    "    with tracer.start_as_current_span(\"test2\"):\n",
    "        print(\"This is func2.\")\n",
    "\n",
    "func1()     "
   ]
  },
  {
   "cell_type": "markdown",
   "metadata": {},
   "source": [
    "### トレースをopentelemetry-collectorサーバにアップロードする\n",
    "opentelemetry-collectorサーバはDockerで構築  \n",
    "`docker run --name my_otel_collector -p 4317:4317 -p 4318:4318 -v .\\/config\\/opentelemetry-collector:/etc/otelcol otel/opentelemetry-collector`  \n",
    "(本当は-vオプションでconfig.yamlファイルを指定してマウントしたいが、ファイルを指定するとエラーになる。Dockerの一時的なバグ？)  \n",
    "  \n",
    "traceの確認方法は  \n",
    "`docker logs my_otel_collector`\n",
    "\n",
    "参考  \n",
    "https://opentelemetry-python.readthedocs.io/en/latest/exporter/otlp/otlp.html#usage"
   ]
  },
  {
   "cell_type": "code",
   "execution_count": 1,
   "metadata": {},
   "outputs": [],
   "source": [
    "from opentelemetry import trace\n",
    "from opentelemetry.sdk.trace import TracerProvider\n",
    "from opentelemetry.exporter.otlp.proto.http.trace_exporter import OTLPSpanExporter\n",
    "from opentelemetry.sdk.trace.export import BatchSpanProcessor\n",
    "from opentelemetry.sdk.resources import Resource\n",
    "from opentelemetry.sdk.trace.sampling import TraceIdRatioBased\n",
    "\n",
    "# 一部のエンドポイントにアップロードするにはサービス名の設定が必要らしい\n",
    "resource = Resource(attributes={\n",
    "    \"service.name\": \"my_service\"\n",
    "})\n",
    "\n",
    "trace.set_tracer_provider(TracerProvider(\n",
    "    resource=resource,\n",
    "    sampler=TraceIdRatioBased(1/1) # トレースを取得する確率を指定\n",
    "))\n",
    "tracer = trace.get_tracer(__name__)\n",
    "\n",
    "# サーバ転送用のエクスプローラ\n",
    "otlp_exporter = OTLPSpanExporter(\n",
    "    endpoint=\"http://localhost:4318/v1/traces\"\n",
    ")\n",
    "span_processor = BatchSpanProcessor(otlp_exporter)\n",
    "trace.get_tracer_provider().add_span_processor(span_processor)"
   ]
  },
  {
   "cell_type": "code",
   "execution_count": null,
   "metadata": {},
   "outputs": [],
   "source": [
    "def func1():\n",
    "    with tracer.start_as_current_span(\"test1\"):\n",
    "        print(\"This is func1.\")\n",
    "        func2()\n",
    "\n",
    "def func2():\n",
    "    with tracer.start_as_current_span(\"test2\"):\n",
    "        print(\"This is func2.\")\n",
    "\n",
    "func1()     "
   ]
  },
  {
   "cell_type": "markdown",
   "metadata": {},
   "source": [
    "### トレース記録用デコレータの例"
   ]
  },
  {
   "cell_type": "code",
   "execution_count": 2,
   "metadata": {},
   "outputs": [
    {
     "name": "stdout",
     "output_type": "stream",
     "text": [
      "This is func3.\n",
      "This is func4.\n"
     ]
    }
   ],
   "source": [
    "def otel_trace_decorator(func):\n",
    "    def _otel_trace_decorator(*args, **kwargs):\n",
    "        function_name = func.__name__\n",
    "        with tracer.start_as_current_span(function_name):\n",
    "            result = func(*args, **kwargs)\n",
    "        \n",
    "        return result\n",
    "\n",
    "    return _otel_trace_decorator\n",
    "\n",
    "@otel_trace_decorator\n",
    "def func3():\n",
    "    print(\"This is func3.\")\n",
    "    func4()\n",
    "\n",
    "@otel_trace_decorator\n",
    "def func4():\n",
    "    print(\"This is func4.\")\n",
    "\n",
    "func3()     "
   ]
  }
 ],
 "metadata": {
  "kernelspec": {
   "display_name": "Python 3",
   "language": "python",
   "name": "python3"
  },
  "language_info": {
   "codemirror_mode": {
    "name": "ipython",
    "version": 3
   },
   "file_extension": ".py",
   "mimetype": "text/x-python",
   "name": "python",
   "nbconvert_exporter": "python",
   "pygments_lexer": "ipython3",
   "version": "3.12.3"
  }
 },
 "nbformat": 4,
 "nbformat_minor": 2
}
