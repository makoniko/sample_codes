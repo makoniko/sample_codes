{
 "cells": [
  {
   "cell_type": "markdown",
   "metadata": {},
   "source": [
    "# PowerShell入門"
   ]
  },
  {
   "cell_type": "markdown",
   "metadata": {},
   "source": [
    "## JupyterでPowerShellを実行できるようにする\n",
    ".NET SDKをインストール。\n",
    "https://dotnet.microsoft.com/en-us/download"
   ]
  },
  {
   "cell_type": "code",
   "execution_count": null,
   "metadata": {
    "vscode": {
     "languageId": "powershell"
    }
   },
   "outputs": [
    {
     "name": "stdout",
     "output_type": "stream",
     "text": [
      "ツール 'microsoft.dotnet-interactive' は既にインストールされています。\n",
      "Installing using path C:\\Users\\makon\\AppData\\Roaming\\jupyter\\kernels.\n",
      "Installed \".NET (C#)\" kernel.\n",
      "Installing using path C:\\Users\\makon\\AppData\\Roaming\\jupyter\\kernels.\n",
      "Installed \".NET (F#)\" kernel.\n",
      "Installing using path C:\\Users\\makon\\AppData\\Roaming\\jupyter\\kernels.\n",
      "Installed \".NET (PowerShell)\" kernel.\n"
     ]
    }
   ],
   "source": [
    "# .NET Interactiveのインストール\n",
    "# dotnet tool install --global Microsoft.dotnet-interactive\n",
    "# Jupyterカーネルへの登録 (%appdata%配下にjupyterフォルダを作成する必要がある。)\n",
    "# dotnet interactive jupyter install"
   ]
  },
  {
   "cell_type": "markdown",
   "metadata": {},
   "source": [
    "## 基本的な変数の操作"
   ]
  },
  {
   "cell_type": "code",
   "execution_count": null,
   "metadata": {
    "vscode": {
     "languageId": "powershell"
    }
   },
   "outputs": [
    {
     "data": {
      "text/html": [
       "\r\n",
       "<div>\r\n",
       "    <div id='dotnet-interactive-this-cell-15540.Microsoft.DotNet.Interactive.Http.HttpPort' style='display: none'>\r\n",
       "        The below script needs to be able to find the current output cell; this is an easy method to get it.\r\n",
       "    </div>\r\n",
       "    <script type='text/javascript'>\r\n",
       "async function probeAddresses(probingAddresses) {\r\n",
       "    function timeout(ms, promise) {\r\n",
       "        return new Promise(function (resolve, reject) {\r\n",
       "            setTimeout(function () {\r\n",
       "                reject(new Error('timeout'))\r\n",
       "            }, ms)\r\n",
       "            promise.then(resolve, reject)\r\n",
       "        })\r\n",
       "    }\r\n",
       "\r\n",
       "    if (Array.isArray(probingAddresses)) {\r\n",
       "        for (let i = 0; i < probingAddresses.length; i++) {\r\n",
       "\r\n",
       "            let rootUrl = probingAddresses[i];\r\n",
       "\r\n",
       "            if (!rootUrl.endsWith('/')) {\r\n",
       "                rootUrl = `${rootUrl}/`;\r\n",
       "            }\r\n",
       "\r\n",
       "            try {\r\n",
       "                let response = await timeout(1000, fetch(`${rootUrl}discovery`, {\r\n",
       "                    method: 'POST',\r\n",
       "                    cache: 'no-cache',\r\n",
       "                    mode: 'cors',\r\n",
       "                    timeout: 1000,\r\n",
       "                    headers: {\r\n",
       "                        'Content-Type': 'text/plain'\r\n",
       "                    },\r\n",
       "                    body: probingAddresses[i]\r\n",
       "                }));\r\n",
       "\r\n",
       "                if (response.status == 200) {\r\n",
       "                    return rootUrl;\r\n",
       "                }\r\n",
       "            }\r\n",
       "            catch (e) { }\r\n",
       "        }\r\n",
       "    }\r\n",
       "}\r\n",
       "\r\n",
       "function loadDotnetInteractiveApi() {\r\n",
       "    probeAddresses([\"http://192.168.3.43:2048/\", \"http://172.23.160.1:2048/\", \"http://127.0.0.1:2048/\"])\r\n",
       "        .then((root) => {\r\n",
       "        // use probing to find host url and api resources\r\n",
       "        // load interactive helpers and language services\r\n",
       "        let dotnetInteractiveRequire = require.config({\r\n",
       "        context: '15540.Microsoft.DotNet.Interactive.Http.HttpPort',\r\n",
       "                paths:\r\n",
       "            {\r\n",
       "                'dotnet-interactive': `${root}resources`\r\n",
       "                }\r\n",
       "        }) || require;\r\n",
       "\r\n",
       "            window.dotnetInteractiveRequire = dotnetInteractiveRequire;\r\n",
       "\r\n",
       "            window.configureRequireFromExtension = function(extensionName, extensionCacheBuster) {\r\n",
       "                let paths = {};\r\n",
       "                paths[extensionName] = `${root}extensions/${extensionName}/resources/`;\r\n",
       "                \r\n",
       "                let internalRequire = require.config({\r\n",
       "                    context: extensionCacheBuster,\r\n",
       "                    paths: paths,\r\n",
       "                    urlArgs: `cacheBuster=${extensionCacheBuster}`\r\n",
       "                    }) || require;\r\n",
       "\r\n",
       "                return internalRequire\r\n",
       "            };\r\n",
       "        \r\n",
       "            dotnetInteractiveRequire([\r\n",
       "                    'dotnet-interactive/dotnet-interactive'\r\n",
       "                ],\r\n",
       "                function (dotnet) {\r\n",
       "                    dotnet.init(window);\r\n",
       "                },\r\n",
       "                function (error) {\r\n",
       "                    console.log(error);\r\n",
       "                }\r\n",
       "            );\r\n",
       "        })\r\n",
       "        .catch(error => {console.log(error);});\r\n",
       "    }\r\n",
       "\r\n",
       "// ensure `require` is available globally\r\n",
       "if ((typeof(require) !==  typeof(Function)) || (typeof(require.config) !== typeof(Function))) {\r\n",
       "    let require_script = document.createElement('script');\r\n",
       "    require_script.setAttribute('src', 'https://cdnjs.cloudflare.com/ajax/libs/require.js/2.3.6/require.min.js');\r\n",
       "    require_script.setAttribute('type', 'text/javascript');\r\n",
       "    \r\n",
       "    \r\n",
       "    require_script.onload = function() {\r\n",
       "        loadDotnetInteractiveApi();\r\n",
       "    };\r\n",
       "\r\n",
       "    document.getElementsByTagName('head')[0].appendChild(require_script);\r\n",
       "}\r\n",
       "else {\r\n",
       "    loadDotnetInteractiveApi();\r\n",
       "}\r\n",
       "\r\n",
       "    </script>\r\n",
       "</div>"
      ]
     },
     "metadata": {},
     "output_type": "display_data"
    },
    {
     "name": "stdout",
     "output_type": "stream",
     "text": [
      "System.Int32\n",
      "System.Double\n",
      "System.String\n",
      "Hello World.\n"
     ]
    }
   ],
   "source": [
    "# 整数\n",
    "$a = 15\n",
    "\n",
    "# 小数\n",
    "$b = 0.5\n",
    "\n",
    "# 文字列\n",
    "$c = \"Hello\"\n",
    "\n",
    "Write-Host $a.GetType()     # System.Int32\n",
    "Write-Host $b.GetType()     # System.Double\n",
    "Write-Host $c.GetType()     # System.String\n",
    "\n",
    "Write-Host \"${c} World.\"    # Hello World."
   ]
  },
  {
   "cell_type": "code",
   "execution_count": null,
   "metadata": {
    "vscode": {
     "languageId": "powershell"
    }
   },
   "outputs": [
    {
     "name": "stdout",
     "output_type": "stream",
     "text": [
      "a b c d e\n",
      "1 2 3 4 5\n",
      "\n",
      "4\n",
      "a b C d e\n"
     ]
    }
   ],
   "source": [
    "# 要素をカンマ区切りで列挙する\n",
    "$a = \"a\",\"b\",\"c\",\"d\",\"e\"\n",
    "\n",
    "# 連続した数値の場合、「..」で定義可能(1～5までの配列)\n",
    "$b = 1..5\n",
    "\n",
    "# 空の配列の定義\n",
    "$c = @()\n",
    "\n",
    "Write-Host $a             # a b c d e\n",
    "Write-Host $b             # 1 2 3 4 5\n",
    "Write-Host $c             # \n",
    "\n",
    "# 要素の参照\n",
    "Write-Host $b[3]          # 4\n",
    "\n",
    "# 要素の代入\n",
    "$a[2] = \"C\" \n",
    "Write-Host $a             # a b C d e"
   ]
  },
  {
   "cell_type": "code",
   "execution_count": null,
   "metadata": {
    "vscode": {
     "languageId": "powershell"
    }
   },
   "outputs": [
    {
     "name": "stdout",
     "output_type": "stream",
     "text": [
      "11 13 15\n",
      "11 14 12 18\n",
      "12 13 14 15 16 17\n"
     ]
    }
   ],
   "source": [
    "# 配列のスライス\n",
    "$arr = 10..20\n",
    "Write-Host $arr[1, 3, 5]      # 1,3,5番目の要素を切り出し\n",
    "Write-Host $arr[1, 4, 2, 8]   # 順番を入れ替えてもOK\n",
    "Write-Host $arr[2..7]         # 連続した要素は「..」を使うと便利"
   ]
  },
  {
   "cell_type": "code",
   "execution_count": 17,
   "metadata": {
    "vscode": {
     "languageId": "powershell"
    }
   },
   "outputs": [
    {
     "name": "stdout",
     "output_type": "stream",
     "text": [
      "150 151 152 153 154 155 156 157 158 159 160 161 162 163 164 165 166 167 168 169 170 171 172 173 174 175 176 177 178 179 180\n"
     ]
    }
   ],
   "source": [
    "$d = 100..200\n",
    "Write-Host $d[50..80]"
   ]
  },
  {
   "cell_type": "code",
   "execution_count": 2,
   "metadata": {
    "vscode": {
     "languageId": "powershell"
    }
   },
   "outputs": [
    {
     "name": "stdout",
     "output_type": "stream",
     "text": [
      "1 2 3 4 5 6 7 8 9 10 11\n",
      "1 2 3 4 5 6 7 8 9 10 11 12\n"
     ]
    }
   ],
   "source": [
    "$a = 1..10\n",
    "# 「配列 + 要素」で配列の末尾に要素が追加された配列が返される\n",
    "$a = $a + 11\n",
    "Write-Host $a     # 1 2 3 4 5 6 7 8 9 10 11\n",
    "\n",
    "# 「+=」演算子を使っても書ける\n",
    "$a += 12\n",
    "Write-Host $a     # 1 2 3 4 5 6 7 8 9 10 11 12"
   ]
  },
  {
   "cell_type": "code",
   "execution_count": 3,
   "metadata": {
    "vscode": {
     "languageId": "powershell"
    }
   },
   "outputs": [
    {
     "name": "stdout",
     "output_type": "stream",
     "text": [
      "11\n",
      "11\n"
     ]
    }
   ],
   "source": [
    "# 配列の長さを取得\n",
    "$a = 0..10\n",
    "Write-Host $a.Length   # 11\n",
    "Write-Host $a.Count    # 11"
   ]
  },
  {
   "cell_type": "markdown",
   "metadata": {},
   "source": [
    "## まず覚えるべきコマンド\n",
    "- Get-Command (どんなコマンドがあるか調べられる)\n",
    "- Get-Help (コマンドの使い方を調べられる)\n",
    "- Get-Member (コマンド結果のオブジェクトについて調べられる)"
   ]
  },
  {
   "cell_type": "code",
   "execution_count": 7,
   "metadata": {
    "vscode": {
     "languageId": "powershell"
    }
   },
   "outputs": [
    {
     "name": "stdout",
     "output_type": "stream",
     "text": [
      "\n",
      "NAME\n",
      "    Get-Help\n",
      "    \n",
      "SYNTAX\n",
      "    Get-Help [[-Name] <string>] [-Path <string>] [-Category {Alias | Cmdlet | Provider | General | \n",
      "    FAQ | Glossary | HelpFile | ScriptCommand | Function | Filter | ExternalScript | All | DefaultH\n",
      "    elp | DscResource | Class | Configuration}] [-Full] [-Component <string[]>] [-Functionality <st\n",
      "    ring[]>] [-Role <string[]>] [<CommonParameters>]\n",
      "    \n",
      "    Get-Help [[-Name] <string>] -Detailed [-Path <string>] [-Category {Alias | Cmdlet | Provider | \n",
      "    General | FAQ | Glossary | HelpFile | ScriptCommand | Function | Filter | ExternalScript | All \n",
      "    | DefaultHelp | DscResource | Class | Configuration}] [-Component <string[]>] [-Functionality <\n",
      "    string[]>] [-Role <string[]>] [<CommonParameters>]\n",
      "    \n",
      "    Get-Help [[-Name] <string>] -Examples [-Path <string>] [-Category {Alias | Cmdlet | Provider | \n",
      "    General | FAQ | Glossary | HelpFile | ScriptCommand | Function | Filter | ExternalScript | All \n",
      "    | DefaultHelp | DscResource | Class | Configuration}] [-Component <string[]>] [-Functionality <\n",
      "    string[]>] [-Role <string[]>] [<CommonParameters>]\n",
      "    \n",
      "    Get-Help [[-Name] <string>] -Parameter <string[]> [-Path <string>] [-Category {Alias | Cmdlet |\n",
      "     Provider | General | FAQ | Glossary | HelpFile | ScriptCommand | Function | Filter | ExternalS\n",
      "    cript | All | DefaultHelp | DscResource | Class | Configuration}] [-Component <string[]>] [-Fun\n",
      "    ctionality <string[]>] [-Role <string[]>] [<CommonParameters>]\n",
      "    \n",
      "    Get-Help [[-Name] <string>] -Online [-Path <string>] [-Category {Alias | Cmdlet | Provider | Ge\n",
      "    neral | FAQ | Glossary | HelpFile | ScriptCommand | Function | Filter | ExternalScript | All | \n",
      "    DefaultHelp | DscResource | Class | Configuration}] [-Component <string[]>] [-Functionality <st\n",
      "    ring[]>] [-Role <string[]>] [<CommonParameters>]\n",
      "    \n",
      "    Get-Help [[-Name] <string>] -ShowWindow [-Path <string>] [-Category {Alias | Cmdlet | Provider \n",
      "    | General | FAQ | Glossary | HelpFile | ScriptCommand | Function | Filter | ExternalScript | Al\n",
      "    l | DefaultHelp | DscResource | Class | Configuration}] [-Component <string[]>] [-Functionality\n",
      "     <string[]>] [-Role <string[]>] [<CommonParameters>]\n",
      "    \n",
      "\n",
      "ALIASES\n",
      "    None\n",
      "    \n",
      "\n",
      "REMARKS\n",
      "    Get-Help cannot find the Help files for this cmdlet on this computer. It is displaying only par\n",
      "    tial help.\n",
      "        -- To download and install Help files for the module that includes this cmdlet, use Update-\n",
      "    Help.\n",
      "        -- To view the Help topic for this cmdlet online, type: \"Get-Help Get-Help -Online\" or\n",
      "           go to https://go.microsoft.com/fwlink/?LinkID=2096483.\n",
      "\n",
      "\n"
     ]
    }
   ],
   "source": [
    "Get-Help Get-Help"
   ]
  },
  {
   "cell_type": "code",
   "execution_count": 2,
   "metadata": {
    "vscode": {
     "languageId": "powershell"
    }
   },
   "outputs": [
    {
     "name": "stdout",
     "output_type": "stream",
     "text": [
      "\n",
      "    Directory: C:\\Users\\makon\\OneDrive\\Documents\\program_codes\\sample_codes\n",
      "\n",
      "\u001b[32;1mMode   \u001b[0m\u001b[32;1m              LastWriteTime\u001b[0m \u001b[32;1;3m        Length\u001b[0m\u001b[32;1m Name\u001b[0m\n",
      "\u001b[32;1m----   \u001b[0m \u001b[32;1m             -------------\u001b[0m \u001b[32;1m        ------\u001b[0m \u001b[32;1m----\u001b[0m\n",
      "lar--          2025/02/16    21:14                \u001b[44;1mAzure\u001b[0m\n",
      "d----          2025/04/17    23:14                \u001b[44;1mPowerShell\u001b[0m\n",
      "l----          2024/12/30    22:19                \u001b[44;1mPython\u001b[0m\n",
      "la---          2024/12/30     0:16              5 .gitignore\n",
      "la---          2024/12/29    20:24             14 README.md\n",
      "la---          2025/02/17     0:55           1700 temp.ipynb\n",
      "\n"
     ]
    }
   ],
   "source": [
    "$gci = Get-ChildItem ..\n",
    "$gci"
   ]
  },
  {
   "cell_type": "code",
   "execution_count": 3,
   "metadata": {
    "vscode": {
     "languageId": "powershell"
    }
   },
   "outputs": [
    {
     "name": "stdout",
     "output_type": "stream",
     "text": [
      "Azure\n",
      "PowerShell\n",
      "Python\n",
      ".gitignore\n",
      "README.md\n",
      "temp.ipynb\n"
     ]
    }
   ],
   "source": [
    "$gci.name"
   ]
  },
  {
   "cell_type": "code",
   "execution_count": 4,
   "metadata": {
    "vscode": {
     "languageId": "powershell"
    }
   },
   "outputs": [
    {
     "name": "stdout",
     "output_type": "stream",
     "text": [
      "\n",
      "\u001b[32;1mIsPublic\u001b[0m \u001b[32;1;3mIsSerial\u001b[0m\u001b[32;1m Name                                    \u001b[0m\u001b[32;1m BaseType\u001b[0m\n",
      "\u001b[32;1m--------\u001b[0m \u001b[32;1m--------\u001b[0m \u001b[32;1m----                                    \u001b[0m \u001b[32;1m--------\u001b[0m\n",
      "True     True     Object[]                                 System.Array\n",
      "\n"
     ]
    }
   ],
   "source": [
    "$gci.GetType()"
   ]
  },
  {
   "cell_type": "code",
   "execution_count": 12,
   "metadata": {
    "vscode": {
     "languageId": "powershell"
    }
   },
   "outputs": [
    {
     "name": "stdout",
     "output_type": "stream",
     "text": [
      "\n",
      "    Directory: C:\\Users\\makon\\OneDrive\\Documents\\program_codes\\sample_codes\n",
      "\n",
      "\u001b[32;1mMode   \u001b[0m\u001b[32;1m              LastWriteTime\u001b[0m \u001b[32;1;3m        Length\u001b[0m\u001b[32;1m Name\u001b[0m\n",
      "\u001b[32;1m----   \u001b[0m \u001b[32;1m             -------------\u001b[0m \u001b[32;1m        ------\u001b[0m \u001b[32;1m----\u001b[0m\n",
      "lar--          2025/02/16    21:14                \u001b[44;1mAzure\u001b[0m\n",
      "\n"
     ]
    }
   ],
   "source": [
    "$gci[0]"
   ]
  },
  {
   "cell_type": "code",
   "execution_count": 5,
   "metadata": {
    "vscode": {
     "languageId": "powershell"
    }
   },
   "outputs": [
    {
     "name": "stdout",
     "output_type": "stream",
     "text": [
      "\n",
      "\u001b[32;1mIsPublic\u001b[0m \u001b[32;1;3mIsSerial\u001b[0m\u001b[32;1m Name                                    \u001b[0m\u001b[32;1m BaseType\u001b[0m\n",
      "\u001b[32;1m--------\u001b[0m \u001b[32;1m--------\u001b[0m \u001b[32;1m----                                    \u001b[0m \u001b[32;1m--------\u001b[0m\n",
      "True     False    DirectoryInfo                            System.IO.FileSystemInfo\n",
      "\n"
     ]
    }
   ],
   "source": [
    "$gci[0].GetType()"
   ]
  },
  {
   "cell_type": "code",
   "execution_count": 7,
   "metadata": {
    "vscode": {
     "languageId": "powershell"
    }
   },
   "outputs": [
    {
     "name": "stdout",
     "output_type": "stream",
     "text": [
      "\n",
      "\u001b[32;1mName                          \u001b[0m\u001b[32;1m Value\u001b[0m\n",
      "\u001b[32;1m----                          \u001b[0m \u001b[32;1m-----\u001b[0m\n",
      "key1                           value1\n",
      "key3                           100\n",
      "key2                           value2\n",
      "\n"
     ]
    }
   ],
   "source": [
    "$myDict = @{\n",
    "    \"key1\" = \"value1\"\n",
    "    \"key2\" = \"value2\"\n",
    "    \"key3\" = 100\n",
    "}\n",
    "$myDict"
   ]
  },
  {
   "cell_type": "code",
   "execution_count": 8,
   "metadata": {
    "vscode": {
     "languageId": "powershell"
    }
   },
   "outputs": [
    {
     "name": "stdout",
     "output_type": "stream",
     "text": [
      "\n",
      "\u001b[32;1mIsPublic\u001b[0m \u001b[32;1;3mIsSerial\u001b[0m\u001b[32;1m Name                                    \u001b[0m\u001b[32;1m BaseType\u001b[0m\n",
      "\u001b[32;1m--------\u001b[0m \u001b[32;1m--------\u001b[0m \u001b[32;1m----                                    \u001b[0m \u001b[32;1m--------\u001b[0m\n",
      "True     True     Hashtable                                System.Object\n",
      "\n"
     ]
    }
   ],
   "source": [
    "$myDict.GetType()"
   ]
  },
  {
   "cell_type": "code",
   "execution_count": 9,
   "metadata": {
    "vscode": {
     "languageId": "powershell"
    }
   },
   "outputs": [
    {
     "name": "stdout",
     "output_type": "stream",
     "text": [
      "value1\n"
     ]
    }
   ],
   "source": [
    "$myDict.key1"
   ]
  },
  {
   "cell_type": "code",
   "execution_count": 3,
   "metadata": {
    "vscode": {
     "languageId": "powershell"
    }
   },
   "outputs": [
    {
     "name": "stdout",
     "output_type": "stream",
     "text": [
      "\u001b[31;1mWARNING: A web browser has been opened at https://login.microsoftonline.com/organizations/oauth2/v2.0/authorize. Please continue the login in the web browser. If no web browser is available or if the web browser fails to open, use device code flow with `az login --use-device-code`.\u001b[0m\n",
      "[\n",
      "  {\n",
      "    \"cloudName\": \"AzureCloud\",\n",
      "    \"homeTenantId\": \"c6909836-d92d-4f5d-9cf6-94cf6b8e3e63\",\n",
      "    \"id\": \"05062c61-1c01-455b-954d-dc54715dad00\",\n",
      "    \"isDefault\": true,\n",
      "    \"managedByTenants\": [],\n",
      "    \"name\": \"Azure subscription 1\",\n",
      "    \"state\": \"Enabled\",\n",
      "    \"tenantId\": \"c6909836-d92d-4f5d-9cf6-94cf6b8e3e63\",\n",
      "    \"user\": {\n",
      "      \"name\": \"makoniko1126shukatu@gmail.com\",\n",
      "      \"type\": \"user\"\n",
      "    }\n",
      "  }\n",
      "]\n"
     ]
    }
   ],
   "source": [
    "az login"
   ]
  },
  {
   "cell_type": "code",
   "execution_count": 4,
   "metadata": {
    "vscode": {
     "languageId": "powershell"
    }
   },
   "outputs": [
    {
     "name": "stdout",
     "output_type": "stream",
     "text": [
      "[\n",
      "  {\n",
      "    \"id\": \"/subscriptions/05062c61-1c01-455b-954d-dc54715dad00/resourceGroups/RG01\",\n",
      "    \"location\": \"eastus\",\n",
      "    \"managedBy\": null,\n",
      "    \"name\": \"RG01\",\n",
      "    \"properties\": {\n",
      "      \"provisioningState\": \"Succeeded\"\n",
      "    },\n",
      "    \"tags\": {\n",
      "      \"env\": \"dev\"\n",
      "    },\n",
      "    \"type\": \"Microsoft.Resources/resourceGroups\"\n",
      "  },\n",
      "  {\n",
      "    \"id\": \"/subscriptions/05062c61-1c01-455b-954d-dc54715dad00/resourceGroups/NetworkWatcherRG\",\n",
      "    \"location\": \"eastus\",\n",
      "    \"managedBy\": null,\n",
      "    \"name\": \"NetworkWatcherRG\",\n",
      "    \"properties\": {\n",
      "      \"provisioningState\": \"Succeeded\"\n",
      "    },\n",
      "    \"tags\": null,\n",
      "    \"type\": \"Microsoft.Resources/resourceGroups\"\n",
      "  },\n",
      "  {\n",
      "    \"id\": \"/subscriptions/05062c61-1c01-455b-954d-dc54715dad00/resourceGroups/DefaultResourceGroup-EUS\",\n",
      "    \"location\": \"eastus\",\n",
      "    \"managedBy\": null,\n",
      "    \"name\": \"DefaultResourceGroup-EUS\",\n",
      "    \"properties\": {\n",
      "      \"provisioningState\": \"Succeeded\"\n",
      "    },\n",
      "    \"tags\": null,\n",
      "    \"type\": \"Microsoft.Resources/resourceGroups\"\n",
      "  },\n",
      "  {\n",
      "    \"id\": \"/subscriptions/05062c61-1c01-455b-954d-dc54715dad00/resourceGroups/AzureBackupRG_japaneast_1\",\n",
      "    \"location\": \"japaneast\",\n",
      "    \"managedBy\": \"subscriptions/05062c61-1c01-455b-954d-dc54715dad00/providers/Microsoft.RecoveryServices/\",\n",
      "    \"name\": \"AzureBackupRG_japaneast_1\",\n",
      "    \"properties\": {\n",
      "      \"provisioningState\": \"Succeeded\"\n",
      "    },\n",
      "    \"tags\": null,\n",
      "    \"type\": \"Microsoft.Resources/resourceGroups\"\n",
      "  }\n",
      "]\n"
     ]
    }
   ],
   "source": [
    "az group list"
   ]
  },
  {
   "cell_type": "code",
   "execution_count": 5,
   "metadata": {
    "vscode": {
     "languageId": "powershell"
    }
   },
   "outputs": [
    {
     "name": "stdout",
     "output_type": "stream",
     "text": [
      "\n",
      "\u001b[32;1mid         : \u001b[0m/subscriptions/05062c61-1c01-455b-954d-dc54715dad00/resourceGroups/RG01\n",
      "\u001b[32;1mlocation   : \u001b[0meastus\n",
      "\u001b[32;1mmanagedBy  : \u001b[0m\n",
      "\u001b[32;1mname       : \u001b[0mRG01\n",
      "\u001b[32;1mproperties : \u001b[0m@{provisioningState=Succeeded}\n",
      "\u001b[32;1mtags       : \u001b[0m@{env=dev}\n",
      "\u001b[32;1mtype       : \u001b[0mMicrosoft.Resources/resourceGroups\n",
      "\n",
      "\u001b[32;1mid         : \u001b[0m/subscriptions/05062c61-1c01-455b-954d-dc54715dad00/resourceGroups/NetworkWatcherRG\n",
      "\u001b[32;1mlocation   : \u001b[0meastus\n",
      "\u001b[32;1mmanagedBy  : \u001b[0m\n",
      "\u001b[32;1mname       : \u001b[0mNetworkWatcherRG\n",
      "\u001b[32;1mproperties : \u001b[0m@{provisioningState=Succeeded}\n",
      "\u001b[32;1mtags       : \u001b[0m\n",
      "\u001b[32;1mtype       : \u001b[0mMicrosoft.Resources/resourceGroups\n",
      "\n",
      "\u001b[32;1mid         : \u001b[0m/subscriptions/05062c61-1c01-455b-954d-dc54715dad00/resourceGroups/DefaultResourceGrou\n",
      "             p-EUS\n",
      "\u001b[32;1mlocation   : \u001b[0meastus\n",
      "\u001b[32;1mmanagedBy  : \u001b[0m\n",
      "\u001b[32;1mname       : \u001b[0mDefaultResourceGroup-EUS\n",
      "\u001b[32;1mproperties : \u001b[0m@{provisioningState=Succeeded}\n",
      "\u001b[32;1mtags       : \u001b[0m\n",
      "\u001b[32;1mtype       : \u001b[0mMicrosoft.Resources/resourceGroups\n",
      "\n",
      "\u001b[32;1mid         : \u001b[0m/subscriptions/05062c61-1c01-455b-954d-dc54715dad00/resourceGroups/AzureBackupRG_japan\n",
      "             east_1\n",
      "\u001b[32;1mlocation   : \u001b[0mjapaneast\n",
      "\u001b[32;1mmanagedBy  : \u001b[0msubscriptions/05062c61-1c01-455b-954d-dc54715dad00/providers/Microsoft.RecoveryService\n",
      "             s/\n",
      "\u001b[32;1mname       : \u001b[0mAzureBackupRG_japaneast_1\n",
      "\u001b[32;1mproperties : \u001b[0m@{provisioningState=Succeeded}\n",
      "\u001b[32;1mtags       : \u001b[0m\n",
      "\u001b[32;1mtype       : \u001b[0mMicrosoft.Resources/resourceGroups\n",
      "\n"
     ]
    }
   ],
   "source": [
    "$azure_resource_groups = az group list | ConvertFrom-Json\n",
    "$azure_resource_groups"
   ]
  },
  {
   "cell_type": "code",
   "execution_count": 23,
   "metadata": {
    "vscode": {
     "languageId": "powershell"
    }
   },
   "outputs": [
    {
     "name": "stdout",
     "output_type": "stream",
     "text": [
      "\n",
      "\u001b[32;1mIsPublic\u001b[0m \u001b[32;1;3mIsSerial\u001b[0m\u001b[32;1m Name                                    \u001b[0m\u001b[32;1m BaseType\u001b[0m\n",
      "\u001b[32;1m--------\u001b[0m \u001b[32;1m--------\u001b[0m \u001b[32;1m----                                    \u001b[0m \u001b[32;1m--------\u001b[0m\n",
      "True     True     Object[]                                 System.Array\n",
      "\n"
     ]
    }
   ],
   "source": [
    "$azure_resource_groups.GetType()"
   ]
  },
  {
   "cell_type": "code",
   "execution_count": 24,
   "metadata": {
    "vscode": {
     "languageId": "powershell"
    }
   },
   "outputs": [
    {
     "name": "stdout",
     "output_type": "stream",
     "text": [
      "\n",
      "\u001b[32;1mIsPublic\u001b[0m \u001b[32;1;3mIsSerial\u001b[0m\u001b[32;1m Name                                    \u001b[0m\u001b[32;1m BaseType\u001b[0m\n",
      "\u001b[32;1m--------\u001b[0m \u001b[32;1m--------\u001b[0m \u001b[32;1m----                                    \u001b[0m \u001b[32;1m--------\u001b[0m\n",
      "True     False    PSCustomObject                           System.Object\n",
      "\n"
     ]
    }
   ],
   "source": [
    "$azure_resource_groups[0].GetType()"
   ]
  },
  {
   "cell_type": "code",
   "execution_count": 7,
   "metadata": {
    "vscode": {
     "languageId": "powershell"
    }
   },
   "outputs": [],
   "source": [
    "$azure_resource_groups | Export-Csv -Path .\\azure_resource_groups.csv -Encoding utf8BOM"
   ]
  }
 ],
 "metadata": {
  "kernelspec": {
   "display_name": ".NET (PowerShell)",
   "language": "PowerShell",
   "name": ".net-powershell"
  },
  "language_info": {
   "file_extension": ".ps1",
   "mimetype": "text/x-powershell",
   "name": "PowerShell",
   "pygments_lexer": "powershell",
   "version": "7.5"
  }
 },
 "nbformat": 4,
 "nbformat_minor": 2
}
