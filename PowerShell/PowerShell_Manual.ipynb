{
 "cells": [
  {
   "cell_type": "markdown",
   "metadata": {},
   "source": [
    "# PowerShell入門"
   ]
  },
  {
   "cell_type": "markdown",
   "metadata": {},
   "source": [
    "## JupyterでPowerShellを実行できるようにする\n",
    ".NET SDKをインストール。\n",
    "https://dotnet.microsoft.com/en-us/download"
   ]
  },
  {
   "cell_type": "code",
   "execution_count": null,
   "metadata": {
    "vscode": {
     "languageId": "powershell"
    }
   },
   "outputs": [
    {
     "name": "stdout",
     "output_type": "stream",
     "text": [
      "ツール 'microsoft.dotnet-interactive' は既にインストールされています。\n",
      "Installing using path C:\\Users\\makon\\AppData\\Roaming\\jupyter\\kernels.\n",
      "Installed \".NET (C#)\" kernel.\n",
      "Installing using path C:\\Users\\makon\\AppData\\Roaming\\jupyter\\kernels.\n",
      "Installed \".NET (F#)\" kernel.\n",
      "Installing using path C:\\Users\\makon\\AppData\\Roaming\\jupyter\\kernels.\n",
      "Installed \".NET (PowerShell)\" kernel.\n"
     ]
    }
   ],
   "source": [
    "# .NET Interactiveのインストール\n",
    "# dotnet tool install --global Microsoft.dotnet-interactive\n",
    "# Jupyterカーネルへの登録 (%appdata%配下にjupyterフォルダを作成する必要がある。)\n",
    "# dotnet interactive jupyter install"
   ]
  },
  {
   "cell_type": "markdown",
   "metadata": {},
   "source": [
    "## 基本的な変数の操作"
   ]
  },
  {
   "cell_type": "code",
   "execution_count": 13,
   "metadata": {
    "vscode": {
     "languageId": "powershell"
    }
   },
   "outputs": [
    {
     "name": "stdout",
     "output_type": "stream",
     "text": [
      "System.Int32\n",
      "System.Double\n",
      "System.String\n",
      "Hello World.\n"
     ]
    }
   ],
   "source": [
    "$a = 15       # 整数\n",
    "$b = 0.5      # 小数\n",
    "$c = \"Hello\"  # 文字列\n",
    "\n",
    "Write-Host $a.GetType()     # System.Int32\n",
    "Write-Host $b.GetType()     # System.Double\n",
    "Write-Host $c.GetType()     # System.String\n",
    "\n",
    "Write-Host \"${c} World.\""
   ]
  },
  {
   "cell_type": "code",
   "execution_count": 15,
   "metadata": {
    "vscode": {
     "languageId": "powershell"
    }
   },
   "outputs": [
    {
     "name": "stdout",
     "output_type": "stream",
     "text": [
      "a b c d e\n",
      "1 2 3 4 5\n",
      "\n",
      "4\n",
      "a b C d e\n"
     ]
    }
   ],
   "source": [
    "$a = \"a\",\"b\",\"c\",\"d\",\"e\"  # 要素をカンマ区切りで列挙する\n",
    "$b = 1..5                 # 連続した数値の場合、「..」で定義可能(1～5までの配列)\n",
    "$c = @()                     # 空の配列の定義\n",
    "\n",
    "Write-Host $a\n",
    "Write-Host $b\n",
    "Write-Host $c\n",
    "\n",
    "Write-Host $b[3]        # 要素の参照\n",
    "$a[2] = \"C\"             # 要素の代入\n",
    "Write-Host $a"
   ]
  },
  {
   "cell_type": "code",
   "execution_count": null,
   "metadata": {
    "vscode": {
     "languageId": "powershell"
    }
   },
   "outputs": [
    {
     "name": "stdout",
     "output_type": "stream",
     "text": [
      "11 13 15\n",
      "11 14 12 18\n",
      "12 13 14 15 16 17\n"
     ]
    }
   ],
   "source": [
    "# 配列のスライス\n",
    "$arr = 10..20\n",
    "Write-Host $arr[1, 3, 5]      # 1,3,5番目の要素を切り出し\n",
    "Write-Host $arr[1, 4, 2, 8]   # 順番を入れ替えてもOK\n",
    "Write-Host $arr[2..7]         # 連続した要素は「..」を使うと便利"
   ]
  },
  {
   "cell_type": "code",
   "execution_count": 17,
   "metadata": {
    "vscode": {
     "languageId": "powershell"
    }
   },
   "outputs": [
    {
     "name": "stdout",
     "output_type": "stream",
     "text": [
      "150 151 152 153 154 155 156 157 158 159 160 161 162 163 164 165 166 167 168 169 170 171 172 173 174 175 176 177 178 179 180\n"
     ]
    }
   ],
   "source": [
    "$d = 100..200\n",
    "Write-Host $d[50..80]"
   ]
  },
  {
   "cell_type": "code",
   "execution_count": 21,
   "metadata": {
    "vscode": {
     "languageId": "powershell"
    }
   },
   "outputs": [
    {
     "name": "stdout",
     "output_type": "stream",
     "text": [
      "1 2 3 4 5 6 7 8 9 10 11\n",
      "1 2 3 4 5 6 7 8 9 10 11 12\n"
     ]
    }
   ],
   "source": [
    "$a = 1..10\n",
    "$a = $a + 11     # 「配列 + 要素」で配列の末尾に要素が追加された配列が返される\n",
    "Write-Host $a\n",
    "$a += 12         # 「+=」演算子を使っても書ける\n",
    "Write-Host $a"
   ]
  },
  {
   "cell_type": "code",
   "execution_count": 22,
   "metadata": {
    "vscode": {
     "languageId": "powershell"
    }
   },
   "outputs": [
    {
     "name": "stdout",
     "output_type": "stream",
     "text": [
      "11\n",
      "11\n"
     ]
    }
   ],
   "source": [
    "# 配列の長さを取得\n",
    "$a = 0..10\n",
    "Write-Host $a.Length\n",
    "Write-Host $a.Count    # $a.Lengthと結果は同じ"
   ]
  },
  {
   "cell_type": "code",
   "execution_count": 2,
   "metadata": {
    "vscode": {
     "languageId": "powershell"
    }
   },
   "outputs": [
    {
     "name": "stdout",
     "output_type": "stream",
     "text": [
      "\n",
      "    Directory: C:\\Users\\makon\\OneDrive\\Documents\\program_codes\\sample_codes\n",
      "\n",
      "\u001b[32;1mMode   \u001b[0m\u001b[32;1m              LastWriteTime\u001b[0m \u001b[32;1;3m        Length\u001b[0m\u001b[32;1m Name\u001b[0m\n",
      "\u001b[32;1m----   \u001b[0m \u001b[32;1m             -------------\u001b[0m \u001b[32;1m        ------\u001b[0m \u001b[32;1m----\u001b[0m\n",
      "lar--          2025/02/16    21:14                \u001b[44;1mAzure\u001b[0m\n",
      "d----          2025/04/17    23:14                \u001b[44;1mPowerShell\u001b[0m\n",
      "l----          2024/12/30    22:19                \u001b[44;1mPython\u001b[0m\n",
      "la---          2024/12/30     0:16              5 .gitignore\n",
      "la---          2024/12/29    20:24             14 README.md\n",
      "la---          2025/02/17     0:55           1700 temp.ipynb\n",
      "\n"
     ]
    }
   ],
   "source": [
    "$gci = Get-ChildItem ..\n",
    "$gci"
   ]
  },
  {
   "cell_type": "code",
   "execution_count": 3,
   "metadata": {
    "vscode": {
     "languageId": "powershell"
    }
   },
   "outputs": [
    {
     "name": "stdout",
     "output_type": "stream",
     "text": [
      "Azure\n",
      "PowerShell\n",
      "Python\n",
      ".gitignore\n",
      "README.md\n",
      "temp.ipynb\n"
     ]
    }
   ],
   "source": [
    "$gci.name"
   ]
  },
  {
   "cell_type": "code",
   "execution_count": 4,
   "metadata": {
    "vscode": {
     "languageId": "powershell"
    }
   },
   "outputs": [
    {
     "name": "stdout",
     "output_type": "stream",
     "text": [
      "\n",
      "\u001b[32;1mIsPublic\u001b[0m \u001b[32;1;3mIsSerial\u001b[0m\u001b[32;1m Name                                    \u001b[0m\u001b[32;1m BaseType\u001b[0m\n",
      "\u001b[32;1m--------\u001b[0m \u001b[32;1m--------\u001b[0m \u001b[32;1m----                                    \u001b[0m \u001b[32;1m--------\u001b[0m\n",
      "True     True     Object[]                                 System.Array\n",
      "\n"
     ]
    }
   ],
   "source": [
    "$gci.GetType()"
   ]
  },
  {
   "cell_type": "code",
   "execution_count": 12,
   "metadata": {
    "vscode": {
     "languageId": "powershell"
    }
   },
   "outputs": [
    {
     "name": "stdout",
     "output_type": "stream",
     "text": [
      "\n",
      "    Directory: C:\\Users\\makon\\OneDrive\\Documents\\program_codes\\sample_codes\n",
      "\n",
      "\u001b[32;1mMode   \u001b[0m\u001b[32;1m              LastWriteTime\u001b[0m \u001b[32;1;3m        Length\u001b[0m\u001b[32;1m Name\u001b[0m\n",
      "\u001b[32;1m----   \u001b[0m \u001b[32;1m             -------------\u001b[0m \u001b[32;1m        ------\u001b[0m \u001b[32;1m----\u001b[0m\n",
      "lar--          2025/02/16    21:14                \u001b[44;1mAzure\u001b[0m\n",
      "\n"
     ]
    }
   ],
   "source": [
    "$gci[0]"
   ]
  },
  {
   "cell_type": "code",
   "execution_count": 5,
   "metadata": {
    "vscode": {
     "languageId": "powershell"
    }
   },
   "outputs": [
    {
     "name": "stdout",
     "output_type": "stream",
     "text": [
      "\n",
      "\u001b[32;1mIsPublic\u001b[0m \u001b[32;1;3mIsSerial\u001b[0m\u001b[32;1m Name                                    \u001b[0m\u001b[32;1m BaseType\u001b[0m\n",
      "\u001b[32;1m--------\u001b[0m \u001b[32;1m--------\u001b[0m \u001b[32;1m----                                    \u001b[0m \u001b[32;1m--------\u001b[0m\n",
      "True     False    DirectoryInfo                            System.IO.FileSystemInfo\n",
      "\n"
     ]
    }
   ],
   "source": [
    "$gci[0].GetType()"
   ]
  },
  {
   "cell_type": "code",
   "execution_count": 7,
   "metadata": {
    "vscode": {
     "languageId": "powershell"
    }
   },
   "outputs": [
    {
     "name": "stdout",
     "output_type": "stream",
     "text": [
      "\n",
      "\u001b[32;1mName                          \u001b[0m\u001b[32;1m Value\u001b[0m\n",
      "\u001b[32;1m----                          \u001b[0m \u001b[32;1m-----\u001b[0m\n",
      "key1                           value1\n",
      "key3                           100\n",
      "key2                           value2\n",
      "\n"
     ]
    }
   ],
   "source": [
    "$myDict = @{\n",
    "    \"key1\" = \"value1\"\n",
    "    \"key2\" = \"value2\"\n",
    "    \"key3\" = 100\n",
    "}\n",
    "$myDict"
   ]
  },
  {
   "cell_type": "code",
   "execution_count": 8,
   "metadata": {
    "vscode": {
     "languageId": "powershell"
    }
   },
   "outputs": [
    {
     "name": "stdout",
     "output_type": "stream",
     "text": [
      "\n",
      "\u001b[32;1mIsPublic\u001b[0m \u001b[32;1;3mIsSerial\u001b[0m\u001b[32;1m Name                                    \u001b[0m\u001b[32;1m BaseType\u001b[0m\n",
      "\u001b[32;1m--------\u001b[0m \u001b[32;1m--------\u001b[0m \u001b[32;1m----                                    \u001b[0m \u001b[32;1m--------\u001b[0m\n",
      "True     True     Hashtable                                System.Object\n",
      "\n"
     ]
    }
   ],
   "source": [
    "$myDict.GetType()"
   ]
  },
  {
   "cell_type": "code",
   "execution_count": 9,
   "metadata": {
    "vscode": {
     "languageId": "powershell"
    }
   },
   "outputs": [
    {
     "name": "stdout",
     "output_type": "stream",
     "text": [
      "value1\n"
     ]
    }
   ],
   "source": [
    "$myDict.key1"
   ]
  },
  {
   "cell_type": "code",
   "execution_count": 3,
   "metadata": {
    "vscode": {
     "languageId": "powershell"
    }
   },
   "outputs": [
    {
     "name": "stdout",
     "output_type": "stream",
     "text": [
      "\u001b[31;1mWARNING: A web browser has been opened at https://login.microsoftonline.com/organizations/oauth2/v2.0/authorize. Please continue the login in the web browser. If no web browser is available or if the web browser fails to open, use device code flow with `az login --use-device-code`.\u001b[0m\n",
      "[\n",
      "  {\n",
      "    \"cloudName\": \"AzureCloud\",\n",
      "    \"homeTenantId\": \"c6909836-d92d-4f5d-9cf6-94cf6b8e3e63\",\n",
      "    \"id\": \"05062c61-1c01-455b-954d-dc54715dad00\",\n",
      "    \"isDefault\": true,\n",
      "    \"managedByTenants\": [],\n",
      "    \"name\": \"Azure subscription 1\",\n",
      "    \"state\": \"Enabled\",\n",
      "    \"tenantId\": \"c6909836-d92d-4f5d-9cf6-94cf6b8e3e63\",\n",
      "    \"user\": {\n",
      "      \"name\": \"makoniko1126shukatu@gmail.com\",\n",
      "      \"type\": \"user\"\n",
      "    }\n",
      "  }\n",
      "]\n"
     ]
    }
   ],
   "source": [
    "az login"
   ]
  },
  {
   "cell_type": "code",
   "execution_count": 4,
   "metadata": {
    "vscode": {
     "languageId": "powershell"
    }
   },
   "outputs": [
    {
     "name": "stdout",
     "output_type": "stream",
     "text": [
      "[\n",
      "  {\n",
      "    \"id\": \"/subscriptions/05062c61-1c01-455b-954d-dc54715dad00/resourceGroups/RG01\",\n",
      "    \"location\": \"eastus\",\n",
      "    \"managedBy\": null,\n",
      "    \"name\": \"RG01\",\n",
      "    \"properties\": {\n",
      "      \"provisioningState\": \"Succeeded\"\n",
      "    },\n",
      "    \"tags\": {\n",
      "      \"env\": \"dev\"\n",
      "    },\n",
      "    \"type\": \"Microsoft.Resources/resourceGroups\"\n",
      "  },\n",
      "  {\n",
      "    \"id\": \"/subscriptions/05062c61-1c01-455b-954d-dc54715dad00/resourceGroups/NetworkWatcherRG\",\n",
      "    \"location\": \"eastus\",\n",
      "    \"managedBy\": null,\n",
      "    \"name\": \"NetworkWatcherRG\",\n",
      "    \"properties\": {\n",
      "      \"provisioningState\": \"Succeeded\"\n",
      "    },\n",
      "    \"tags\": null,\n",
      "    \"type\": \"Microsoft.Resources/resourceGroups\"\n",
      "  },\n",
      "  {\n",
      "    \"id\": \"/subscriptions/05062c61-1c01-455b-954d-dc54715dad00/resourceGroups/DefaultResourceGroup-EUS\",\n",
      "    \"location\": \"eastus\",\n",
      "    \"managedBy\": null,\n",
      "    \"name\": \"DefaultResourceGroup-EUS\",\n",
      "    \"properties\": {\n",
      "      \"provisioningState\": \"Succeeded\"\n",
      "    },\n",
      "    \"tags\": null,\n",
      "    \"type\": \"Microsoft.Resources/resourceGroups\"\n",
      "  },\n",
      "  {\n",
      "    \"id\": \"/subscriptions/05062c61-1c01-455b-954d-dc54715dad00/resourceGroups/AzureBackupRG_japaneast_1\",\n",
      "    \"location\": \"japaneast\",\n",
      "    \"managedBy\": \"subscriptions/05062c61-1c01-455b-954d-dc54715dad00/providers/Microsoft.RecoveryServices/\",\n",
      "    \"name\": \"AzureBackupRG_japaneast_1\",\n",
      "    \"properties\": {\n",
      "      \"provisioningState\": \"Succeeded\"\n",
      "    },\n",
      "    \"tags\": null,\n",
      "    \"type\": \"Microsoft.Resources/resourceGroups\"\n",
      "  }\n",
      "]\n"
     ]
    }
   ],
   "source": [
    "az group list"
   ]
  },
  {
   "cell_type": "code",
   "execution_count": 5,
   "metadata": {
    "vscode": {
     "languageId": "powershell"
    }
   },
   "outputs": [
    {
     "name": "stdout",
     "output_type": "stream",
     "text": [
      "\n",
      "\u001b[32;1mid         : \u001b[0m/subscriptions/05062c61-1c01-455b-954d-dc54715dad00/resourceGroups/RG01\n",
      "\u001b[32;1mlocation   : \u001b[0meastus\n",
      "\u001b[32;1mmanagedBy  : \u001b[0m\n",
      "\u001b[32;1mname       : \u001b[0mRG01\n",
      "\u001b[32;1mproperties : \u001b[0m@{provisioningState=Succeeded}\n",
      "\u001b[32;1mtags       : \u001b[0m@{env=dev}\n",
      "\u001b[32;1mtype       : \u001b[0mMicrosoft.Resources/resourceGroups\n",
      "\n",
      "\u001b[32;1mid         : \u001b[0m/subscriptions/05062c61-1c01-455b-954d-dc54715dad00/resourceGroups/NetworkWatcherRG\n",
      "\u001b[32;1mlocation   : \u001b[0meastus\n",
      "\u001b[32;1mmanagedBy  : \u001b[0m\n",
      "\u001b[32;1mname       : \u001b[0mNetworkWatcherRG\n",
      "\u001b[32;1mproperties : \u001b[0m@{provisioningState=Succeeded}\n",
      "\u001b[32;1mtags       : \u001b[0m\n",
      "\u001b[32;1mtype       : \u001b[0mMicrosoft.Resources/resourceGroups\n",
      "\n",
      "\u001b[32;1mid         : \u001b[0m/subscriptions/05062c61-1c01-455b-954d-dc54715dad00/resourceGroups/DefaultResourceGrou\n",
      "             p-EUS\n",
      "\u001b[32;1mlocation   : \u001b[0meastus\n",
      "\u001b[32;1mmanagedBy  : \u001b[0m\n",
      "\u001b[32;1mname       : \u001b[0mDefaultResourceGroup-EUS\n",
      "\u001b[32;1mproperties : \u001b[0m@{provisioningState=Succeeded}\n",
      "\u001b[32;1mtags       : \u001b[0m\n",
      "\u001b[32;1mtype       : \u001b[0mMicrosoft.Resources/resourceGroups\n",
      "\n",
      "\u001b[32;1mid         : \u001b[0m/subscriptions/05062c61-1c01-455b-954d-dc54715dad00/resourceGroups/AzureBackupRG_japan\n",
      "             east_1\n",
      "\u001b[32;1mlocation   : \u001b[0mjapaneast\n",
      "\u001b[32;1mmanagedBy  : \u001b[0msubscriptions/05062c61-1c01-455b-954d-dc54715dad00/providers/Microsoft.RecoveryService\n",
      "             s/\n",
      "\u001b[32;1mname       : \u001b[0mAzureBackupRG_japaneast_1\n",
      "\u001b[32;1mproperties : \u001b[0m@{provisioningState=Succeeded}\n",
      "\u001b[32;1mtags       : \u001b[0m\n",
      "\u001b[32;1mtype       : \u001b[0mMicrosoft.Resources/resourceGroups\n",
      "\n"
     ]
    }
   ],
   "source": [
    "$azure_resource_groups = az group list | ConvertFrom-Json\n",
    "$azure_resource_groups"
   ]
  },
  {
   "cell_type": "code",
   "execution_count": 23,
   "metadata": {
    "vscode": {
     "languageId": "powershell"
    }
   },
   "outputs": [
    {
     "name": "stdout",
     "output_type": "stream",
     "text": [
      "\n",
      "\u001b[32;1mIsPublic\u001b[0m \u001b[32;1;3mIsSerial\u001b[0m\u001b[32;1m Name                                    \u001b[0m\u001b[32;1m BaseType\u001b[0m\n",
      "\u001b[32;1m--------\u001b[0m \u001b[32;1m--------\u001b[0m \u001b[32;1m----                                    \u001b[0m \u001b[32;1m--------\u001b[0m\n",
      "True     True     Object[]                                 System.Array\n",
      "\n"
     ]
    }
   ],
   "source": [
    "$azure_resource_groups.GetType()"
   ]
  },
  {
   "cell_type": "code",
   "execution_count": 24,
   "metadata": {
    "vscode": {
     "languageId": "powershell"
    }
   },
   "outputs": [
    {
     "name": "stdout",
     "output_type": "stream",
     "text": [
      "\n",
      "\u001b[32;1mIsPublic\u001b[0m \u001b[32;1;3mIsSerial\u001b[0m\u001b[32;1m Name                                    \u001b[0m\u001b[32;1m BaseType\u001b[0m\n",
      "\u001b[32;1m--------\u001b[0m \u001b[32;1m--------\u001b[0m \u001b[32;1m----                                    \u001b[0m \u001b[32;1m--------\u001b[0m\n",
      "True     False    PSCustomObject                           System.Object\n",
      "\n"
     ]
    }
   ],
   "source": [
    "$azure_resource_groups[0].GetType()"
   ]
  },
  {
   "cell_type": "code",
   "execution_count": 7,
   "metadata": {
    "vscode": {
     "languageId": "powershell"
    }
   },
   "outputs": [],
   "source": [
    "$azure_resource_groups | Export-Csv -Path .\\azure_resource_groups.csv -Encoding utf8BOM"
   ]
  }
 ],
 "metadata": {
  "kernelspec": {
   "display_name": ".NET (PowerShell)",
   "language": "PowerShell",
   "name": ".net-powershell"
  },
  "language_info": {
   "file_extension": ".ps1",
   "mimetype": "text/x-powershell",
   "name": "PowerShell",
   "pygments_lexer": "powershell",
   "version": "7.5"
  }
 },
 "nbformat": 4,
 "nbformat_minor": 2
}
